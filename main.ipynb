{
 "cells": [
  {
   "cell_type": "markdown",
   "metadata": {},
   "source": [
    "LTIM time series, 1991 to 2017 Area of Destination or Origin within the UK"
   ]
  },
  {
   "cell_type": "code",
   "execution_count": 1,
   "metadata": {},
   "outputs": [
    {
     "data": {
      "text/markdown": [
       "## Long-term international migration 2.06, area of destination or origin within the UK\n",
       "\n",
       "Region of intended residence or former residence. Estimates of Long-Term International Migration, annual table.\n",
       "\n",
       "### Distributions\n",
       "\n",
       "1. Long-term international migration 2.06, area of destination or origin within the UK ([MS Excel Spreadsheet](https://www.ons.gov.uk/file?uri=/peoplepopulationandcommunity/populationandmigration/internationalmigration/datasets/longterminternationalmigrationareaofdestinationororiginwithintheuktable206/current/2.06ltimareaofdestinationororiginwithintheuk1991to2017.xls))\n"
      ],
      "text/plain": [
       "<gssutils.scrape.Scraper at 0x1e695f21cc0>"
      ]
     },
     "execution_count": 1,
     "metadata": {},
     "output_type": "execute_result"
    }
   ],
   "source": [
    "from gssutils import *\n",
    "scraper = Scraper('https://www.ons.gov.uk/peoplepopulationandcommunity/populationandmigration/' \\\n",
    "                  'internationalmigration/datasets/longterminternationalmigrationareaofdestinationororiginwithintheuktable206')\n",
    "scraper"
   ]
  },
  {
   "cell_type": "code",
   "execution_count": 2,
   "metadata": {
    "collapsed": true
   },
   "outputs": [],
   "source": [
    "tab = next(t for t in scraper.distribution().as_databaker() if t.name == 'Table 2.06')"
   ]
  },
  {
   "cell_type": "code",
   "execution_count": 3,
   "metadata": {
    "collapsed": true
   },
   "outputs": [],
   "source": [
    "cell = tab.filter('Year')\n",
    "cell.assert_one()\n",
    "Area = cell.shift(0,2).fill(RIGHT).is_not_blank().is_not_whitespace()\n",
    "Year = cell.expand(DOWN).filter(lambda x: type(x.value) != str or 'Significant Change?' not in x.value)\n",
    "Flow = cell.fill(DOWN).one_of(['Inflow', 'Outflow', 'Balance'])"
   ]
  },
  {
   "cell_type": "code",
   "execution_count": 4,
   "metadata": {
    "collapsed": true
   },
   "outputs": [],
   "source": [
    "observations = cell.shift(RIGHT).fill(DOWN).filter('Estimate').expand(RIGHT).filter('Estimate') \\\n",
    "                .fill(DOWN).is_not_blank().is_not_whitespace() \n",
    "Str =  tab.filter(contains_string('Significant Change?')).fill(RIGHT).is_not_number()\n",
    "observations = observations - (tab.excel_ref('A1').expand(DOWN).expand(RIGHT).filter(contains_string('Significant Change')))\n",
    "original_estimates = tab.filter(contains_string('Original Estimates')).fill(DOWN).is_number()\n",
    "observations = observations - original_estimates - Str\n",
    "CI = observations.shift(RIGHT)"
   ]
  },
  {
   "cell_type": "code",
   "execution_count": 5,
   "metadata": {},
   "outputs": [
    {
     "name": "stdout",
     "output_type": "stream",
     "text": [
      "\n"
     ]
    }
   ],
   "source": [
    "csObs = ConversionSegment(observations, [\n",
    "    HDim(Year,'Year', DIRECTLY, LEFT),\n",
    "    HDimConst('Geography','K02000001'),\n",
    "    HDim(Area,'Area of Destination or Origin', CLOSEST, LEFT),\n",
    "    HDim(Flow, 'Flow', CLOSEST, ABOVE),\n",
    "    HDimConst('Measure Type', 'Count'),\n",
    "    HDimConst('Unit','People (thousands)'),\n",
    "    HDim(CI,'CI',DIRECTLY,RIGHT),\n",
    "    HDimConst('Revision', '2011 Census Revision')\n",
    "])\n",
    "# savepreviewhtml(csObs)\n",
    "tidy_revised = csObs.topandas()"
   ]
  },
  {
   "cell_type": "code",
   "execution_count": 6,
   "metadata": {},
   "outputs": [
    {
     "name": "stdout",
     "output_type": "stream",
     "text": [
      "\n"
     ]
    }
   ],
   "source": [
    "csRevs = ConversionSegment(original_estimates, [\n",
    "    HDim(Year, 'Year', DIRECTLY, LEFT),\n",
    "    HDimConst('Geography','K02000001'),\n",
    "    HDim(Area,'Area of Destination or Origin', CLOSEST, LEFT),\n",
    "    HDim(Flow, 'Flow', CLOSEST, ABOVE),\n",
    "    HDimConst('Measure Type', 'Count'),\n",
    "    HDimConst('Unit','People (thousands)'),\n",
    "    HDim(original_estimates.shift(RIGHT), 'CI', DIRECTLY, RIGHT),\n",
    "    HDimConst('Revision', 'Original Estimate')\n",
    "])\n",
    "orig_estimates = csRevs.topandas()"
   ]
  },
  {
   "cell_type": "code",
   "execution_count": 7,
   "metadata": {
    "collapsed": true
   },
   "outputs": [],
   "source": [
    "tidy = pd.concat([tidy_revised, orig_estimates], axis=0, join='outer', ignore_index=True, sort=False)"
   ]
  },
  {
   "cell_type": "code",
   "execution_count": 8,
   "metadata": {
    "collapsed": true
   },
   "outputs": [],
   "source": [
    "import numpy as np\n",
    "# tidy['OBS'].replace('', np.nan, inplace=True)\n",
    "# tidy.dropna(subset=['OBS'], inplace=True)\n",
    "# if 'DATAMARKER' in tidy.columns:\n",
    "#     tidy.drop(columns=['DATAMARKER'], inplace=True)\n",
    "tidy.rename(columns={'OBS': 'Value'}, inplace=True)\n",
    "# tidy['Value'] = tidy['Value'].astype(int)\n",
    "# tidy['CI'] = tidy['CI'].map(lambda x:'' \n",
    "#                             if (x == ':') | (x == 'N/A') \n",
    "#                             else int(x[:-2]) if x.endswith('.0') \n",
    "#                             else 'ERR')"
   ]
  },
  {
   "cell_type": "code",
   "execution_count": 9,
   "metadata": {},
   "outputs": [],
   "source": [
    "tidy['Marker'] = tidy['DATAMARKER'].map(lambda x: { ':' : 'not-available',\n",
    "                                                'Statistically Significant Decrease' : 'statistically-significant-decrease'}.get(x, x))"
   ]
  },
  {
   "cell_type": "code",
   "execution_count": 10,
   "metadata": {
    "collapsed": true
   },
   "outputs": [],
   "source": [
    "tidy['CI'] = tidy['CI'].map(lambda x: { ':' : 'not-available',\n",
    "                                                'N/A' : 'not-available'}.get(x, x))"
   ]
  },
  {
   "cell_type": "code",
   "execution_count": 11,
   "metadata": {},
   "outputs": [
    {
     "data": {
      "text/plain": [
       "'DATAMARKER'"
      ]
     },
     "metadata": {},
     "output_type": "display_data"
    },
    {
     "data": {
      "text/plain": [
       "Index([':', 'Statistically Significant Decrease'], dtype='object')"
      ]
     },
     "metadata": {},
     "output_type": "display_data"
    },
    {
     "data": {
      "text/plain": [
       "'Geography'"
      ]
     },
     "metadata": {},
     "output_type": "display_data"
    },
    {
     "data": {
      "text/plain": [
       "Index(['K02000001'], dtype='object')"
      ]
     },
     "metadata": {},
     "output_type": "display_data"
    },
    {
     "data": {
      "text/plain": [
       "'Area of Destination or Origin'"
      ]
     },
     "metadata": {},
     "output_type": "display_data"
    },
    {
     "data": {
      "text/plain": [
       "Index(['E12000001', 'E12000002', 'E12000003', 'E12000004', 'E12000005',\n",
       "       'E12000006', 'E12000007', 'E12000008', 'E12000009', 'E92000001',\n",
       "       'K02000001', 'K03000001', 'K04000001', 'N92000002', 'S92000003',\n",
       "       'W92000004'],\n",
       "      dtype='object')"
      ]
     },
     "metadata": {},
     "output_type": "display_data"
    },
    {
     "data": {
      "text/plain": [
       "'Flow'"
      ]
     },
     "metadata": {},
     "output_type": "display_data"
    },
    {
     "data": {
      "text/plain": [
       "Index(['Balance', 'Inflow', 'Outflow'], dtype='object')"
      ]
     },
     "metadata": {},
     "output_type": "display_data"
    },
    {
     "data": {
      "text/plain": [
       "'Measure Type'"
      ]
     },
     "metadata": {},
     "output_type": "display_data"
    },
    {
     "data": {
      "text/plain": [
       "Index(['Count'], dtype='object')"
      ]
     },
     "metadata": {},
     "output_type": "display_data"
    },
    {
     "data": {
      "text/plain": [
       "'Unit'"
      ]
     },
     "metadata": {},
     "output_type": "display_data"
    },
    {
     "data": {
      "text/plain": [
       "Index(['People (thousands)'], dtype='object')"
      ]
     },
     "metadata": {},
     "output_type": "display_data"
    },
    {
     "data": {
      "text/plain": [
       "'Revision'"
      ]
     },
     "metadata": {},
     "output_type": "display_data"
    },
    {
     "data": {
      "text/plain": [
       "Index(['2011 Census Revision', 'Original Estimate'], dtype='object')"
      ]
     },
     "metadata": {},
     "output_type": "display_data"
    },
    {
     "data": {
      "text/plain": [
       "'Marker'"
      ]
     },
     "metadata": {},
     "output_type": "display_data"
    },
    {
     "data": {
      "text/plain": [
       "Index(['not-available', 'statistically-significant-decrease'], dtype='object')"
      ]
     },
     "metadata": {},
     "output_type": "display_data"
    }
   ],
   "source": [
    "for col in tidy.columns:\n",
    "    if col not in ['Value', 'Year', 'CI']:\n",
    "        tidy[col] = tidy[col].astype('category')\n",
    "        display(col)\n",
    "        display(tidy[col].cat.categories)"
   ]
  },
  {
   "cell_type": "code",
   "execution_count": 12,
   "metadata": {
    "collapsed": true
   },
   "outputs": [],
   "source": [
    "tidy['Geography'] = tidy['Geography'].cat.rename_categories({\n",
    "    'United Kingdom': 'K02000001',\n",
    "    'England and Wales': 'K04000001'\n",
    "})\n",
    "tidy['Flow'] = tidy['Flow'].cat.rename_categories({\n",
    "    'Balance': 'balance', \n",
    "    'Inflow': 'inflow',\n",
    "    'Outflow': 'outflow'\n",
    "})\n",
    "\n",
    "tidy = tidy[['Geography', 'Year', 'Area of Destination or Origin', 'Flow',\n",
    "              'Measure Type','Value', 'CI','Unit', 'Revision', 'Marker']]"
   ]
  },
  {
   "cell_type": "code",
   "execution_count": 13,
   "metadata": {},
   "outputs": [],
   "source": [
    "# tidy['Year'] = tidy['Year'].apply(lambda x: pd.to_numeric(x, downcast='integer'))"
   ]
  },
  {
   "cell_type": "code",
   "execution_count": 14,
   "metadata": {},
   "outputs": [],
   "source": [
    "# tidy['Year'] = tidy['Year'].astype(int)"
   ]
  },
  {
   "cell_type": "code",
   "execution_count": 15,
   "metadata": {
    "collapsed": true
   },
   "outputs": [],
   "source": [
    "from pathlib import Path\n",
    "destinationFolder = Path('out')\n",
    "destinationFolder.mkdir(exist_ok=True, parents=True)\n",
    "\n",
    "tidy.to_csv(destinationFolder / ('observations.csv'), index = False)"
   ]
  },
  {
   "cell_type": "code",
   "execution_count": 16,
   "metadata": {
    "collapsed": true
   },
   "outputs": [],
   "source": [
    "from gssutils.metadata import THEME\n",
    "scraper.dataset.theme = THEME['population']\n",
    "scraper.dataset.family = 'migration'\n",
    "\n",
    "with open(destinationFolder / 'dataset.trig', 'wb') as metadata:\n",
    "    metadata.write(scraper.generate_trig())"
   ]
  }
 ],
 "metadata": {
  "kernelspec": {
   "display_name": "Python 3",
   "language": "python",
   "name": "python3"
  },
  "language_info": {
   "codemirror_mode": {
    "name": "ipython",
    "version": 3
   },
   "file_extension": ".py",
   "mimetype": "text/x-python",
   "name": "python",
   "nbconvert_exporter": "python",
   "pygments_lexer": "ipython3",
   "version": "3.6.3"
  }
 },
 "nbformat": 4,
 "nbformat_minor": 2
}
